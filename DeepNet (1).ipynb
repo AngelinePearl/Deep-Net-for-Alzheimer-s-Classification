{
  "cells": [
    {
      "cell_type": "code",
      "execution_count": null,
      "metadata": {
        "colab": {
          "base_uri": "https://localhost:8080/"
        },
        "id": "UQkbAn7EZJBA",
        "outputId": "0ab043cd-68b8-4ef1-d169-f28c6c2c1f9f"
      },
      "outputs": [
        {
          "output_type": "stream",
          "name": "stdout",
          "text": [
            "Requirement already satisfied: kaggle in /usr/local/lib/python3.10/dist-packages (1.5.16)\n",
            "Requirement already satisfied: six>=1.10 in /usr/local/lib/python3.10/dist-packages (from kaggle) (1.16.0)\n",
            "Requirement already satisfied: certifi in /usr/local/lib/python3.10/dist-packages (from kaggle) (2024.2.2)\n",
            "Requirement already satisfied: python-dateutil in /usr/local/lib/python3.10/dist-packages (from kaggle) (2.8.2)\n",
            "Requirement already satisfied: requests in /usr/local/lib/python3.10/dist-packages (from kaggle) (2.31.0)\n",
            "Requirement already satisfied: tqdm in /usr/local/lib/python3.10/dist-packages (from kaggle) (4.66.2)\n",
            "Requirement already satisfied: python-slugify in /usr/local/lib/python3.10/dist-packages (from kaggle) (8.0.4)\n",
            "Requirement already satisfied: urllib3 in /usr/local/lib/python3.10/dist-packages (from kaggle) (2.0.7)\n",
            "Requirement already satisfied: bleach in /usr/local/lib/python3.10/dist-packages (from kaggle) (6.1.0)\n",
            "Requirement already satisfied: webencodings in /usr/local/lib/python3.10/dist-packages (from bleach->kaggle) (0.5.1)\n",
            "Requirement already satisfied: text-unidecode>=1.3 in /usr/local/lib/python3.10/dist-packages (from python-slugify->kaggle) (1.3)\n",
            "Requirement already satisfied: charset-normalizer<4,>=2 in /usr/local/lib/python3.10/dist-packages (from requests->kaggle) (3.3.2)\n",
            "Requirement already satisfied: idna<4,>=2.5 in /usr/local/lib/python3.10/dist-packages (from requests->kaggle) (3.6)\n"
          ]
        }
      ],
      "source": [
        "!pip install kaggle\n"
      ]
    },
    {
      "cell_type": "code",
      "execution_count": null,
      "metadata": {
        "colab": {
          "base_uri": "https://localhost:8080/",
          "height": 73
        },
        "id": "mNgFfVDqZQzP",
        "outputId": "005181d7-1390-46c5-e00a-c4753e8d0131"
      },
      "outputs": [
        {
          "output_type": "display_data",
          "data": {
            "text/plain": [
              "<IPython.core.display.HTML object>"
            ],
            "text/html": [
              "\n",
              "     <input type=\"file\" id=\"files-cef558ca-b895-4958-8711-5630d4834bc2\" name=\"files[]\" multiple disabled\n",
              "        style=\"border:none\" />\n",
              "     <output id=\"result-cef558ca-b895-4958-8711-5630d4834bc2\">\n",
              "      Upload widget is only available when the cell has been executed in the\n",
              "      current browser session. Please rerun this cell to enable.\n",
              "      </output>\n",
              "      <script>// Copyright 2017 Google LLC\n",
              "//\n",
              "// Licensed under the Apache License, Version 2.0 (the \"License\");\n",
              "// you may not use this file except in compliance with the License.\n",
              "// You may obtain a copy of the License at\n",
              "//\n",
              "//      http://www.apache.org/licenses/LICENSE-2.0\n",
              "//\n",
              "// Unless required by applicable law or agreed to in writing, software\n",
              "// distributed under the License is distributed on an \"AS IS\" BASIS,\n",
              "// WITHOUT WARRANTIES OR CONDITIONS OF ANY KIND, either express or implied.\n",
              "// See the License for the specific language governing permissions and\n",
              "// limitations under the License.\n",
              "\n",
              "/**\n",
              " * @fileoverview Helpers for google.colab Python module.\n",
              " */\n",
              "(function(scope) {\n",
              "function span(text, styleAttributes = {}) {\n",
              "  const element = document.createElement('span');\n",
              "  element.textContent = text;\n",
              "  for (const key of Object.keys(styleAttributes)) {\n",
              "    element.style[key] = styleAttributes[key];\n",
              "  }\n",
              "  return element;\n",
              "}\n",
              "\n",
              "// Max number of bytes which will be uploaded at a time.\n",
              "const MAX_PAYLOAD_SIZE = 100 * 1024;\n",
              "\n",
              "function _uploadFiles(inputId, outputId) {\n",
              "  const steps = uploadFilesStep(inputId, outputId);\n",
              "  const outputElement = document.getElementById(outputId);\n",
              "  // Cache steps on the outputElement to make it available for the next call\n",
              "  // to uploadFilesContinue from Python.\n",
              "  outputElement.steps = steps;\n",
              "\n",
              "  return _uploadFilesContinue(outputId);\n",
              "}\n",
              "\n",
              "// This is roughly an async generator (not supported in the browser yet),\n",
              "// where there are multiple asynchronous steps and the Python side is going\n",
              "// to poll for completion of each step.\n",
              "// This uses a Promise to block the python side on completion of each step,\n",
              "// then passes the result of the previous step as the input to the next step.\n",
              "function _uploadFilesContinue(outputId) {\n",
              "  const outputElement = document.getElementById(outputId);\n",
              "  const steps = outputElement.steps;\n",
              "\n",
              "  const next = steps.next(outputElement.lastPromiseValue);\n",
              "  return Promise.resolve(next.value.promise).then((value) => {\n",
              "    // Cache the last promise value to make it available to the next\n",
              "    // step of the generator.\n",
              "    outputElement.lastPromiseValue = value;\n",
              "    return next.value.response;\n",
              "  });\n",
              "}\n",
              "\n",
              "/**\n",
              " * Generator function which is called between each async step of the upload\n",
              " * process.\n",
              " * @param {string} inputId Element ID of the input file picker element.\n",
              " * @param {string} outputId Element ID of the output display.\n",
              " * @return {!Iterable<!Object>} Iterable of next steps.\n",
              " */\n",
              "function* uploadFilesStep(inputId, outputId) {\n",
              "  const inputElement = document.getElementById(inputId);\n",
              "  inputElement.disabled = false;\n",
              "\n",
              "  const outputElement = document.getElementById(outputId);\n",
              "  outputElement.innerHTML = '';\n",
              "\n",
              "  const pickedPromise = new Promise((resolve) => {\n",
              "    inputElement.addEventListener('change', (e) => {\n",
              "      resolve(e.target.files);\n",
              "    });\n",
              "  });\n",
              "\n",
              "  const cancel = document.createElement('button');\n",
              "  inputElement.parentElement.appendChild(cancel);\n",
              "  cancel.textContent = 'Cancel upload';\n",
              "  const cancelPromise = new Promise((resolve) => {\n",
              "    cancel.onclick = () => {\n",
              "      resolve(null);\n",
              "    };\n",
              "  });\n",
              "\n",
              "  // Wait for the user to pick the files.\n",
              "  const files = yield {\n",
              "    promise: Promise.race([pickedPromise, cancelPromise]),\n",
              "    response: {\n",
              "      action: 'starting',\n",
              "    }\n",
              "  };\n",
              "\n",
              "  cancel.remove();\n",
              "\n",
              "  // Disable the input element since further picks are not allowed.\n",
              "  inputElement.disabled = true;\n",
              "\n",
              "  if (!files) {\n",
              "    return {\n",
              "      response: {\n",
              "        action: 'complete',\n",
              "      }\n",
              "    };\n",
              "  }\n",
              "\n",
              "  for (const file of files) {\n",
              "    const li = document.createElement('li');\n",
              "    li.append(span(file.name, {fontWeight: 'bold'}));\n",
              "    li.append(span(\n",
              "        `(${file.type || 'n/a'}) - ${file.size} bytes, ` +\n",
              "        `last modified: ${\n",
              "            file.lastModifiedDate ? file.lastModifiedDate.toLocaleDateString() :\n",
              "                                    'n/a'} - `));\n",
              "    const percent = span('0% done');\n",
              "    li.appendChild(percent);\n",
              "\n",
              "    outputElement.appendChild(li);\n",
              "\n",
              "    const fileDataPromise = new Promise((resolve) => {\n",
              "      const reader = new FileReader();\n",
              "      reader.onload = (e) => {\n",
              "        resolve(e.target.result);\n",
              "      };\n",
              "      reader.readAsArrayBuffer(file);\n",
              "    });\n",
              "    // Wait for the data to be ready.\n",
              "    let fileData = yield {\n",
              "      promise: fileDataPromise,\n",
              "      response: {\n",
              "        action: 'continue',\n",
              "      }\n",
              "    };\n",
              "\n",
              "    // Use a chunked sending to avoid message size limits. See b/62115660.\n",
              "    let position = 0;\n",
              "    do {\n",
              "      const length = Math.min(fileData.byteLength - position, MAX_PAYLOAD_SIZE);\n",
              "      const chunk = new Uint8Array(fileData, position, length);\n",
              "      position += length;\n",
              "\n",
              "      const base64 = btoa(String.fromCharCode.apply(null, chunk));\n",
              "      yield {\n",
              "        response: {\n",
              "          action: 'append',\n",
              "          file: file.name,\n",
              "          data: base64,\n",
              "        },\n",
              "      };\n",
              "\n",
              "      let percentDone = fileData.byteLength === 0 ?\n",
              "          100 :\n",
              "          Math.round((position / fileData.byteLength) * 100);\n",
              "      percent.textContent = `${percentDone}% done`;\n",
              "\n",
              "    } while (position < fileData.byteLength);\n",
              "  }\n",
              "\n",
              "  // All done.\n",
              "  yield {\n",
              "    response: {\n",
              "      action: 'complete',\n",
              "    }\n",
              "  };\n",
              "}\n",
              "\n",
              "scope.google = scope.google || {};\n",
              "scope.google.colab = scope.google.colab || {};\n",
              "scope.google.colab._files = {\n",
              "  _uploadFiles,\n",
              "  _uploadFilesContinue,\n",
              "};\n",
              "})(self);\n",
              "</script> "
            ]
          },
          "metadata": {}
        },
        {
          "output_type": "stream",
          "name": "stdout",
          "text": [
            "Saving kaggle.json to kaggle.json\n"
          ]
        }
      ],
      "source": [
        "from google.colab import files\n",
        "\n",
        "# Upload the Kaggle API key (kaggle.json) that you downloaded\n",
        "uploaded = files.upload()\n"
      ]
    },
    {
      "cell_type": "code",
      "execution_count": null,
      "metadata": {
        "id": "zyBrXfMFZTHW"
      },
      "outputs": [],
      "source": [
        "!mkdir -p ~/.kaggle\n",
        "!mv kaggle.json ~/.kaggle/\n"
      ]
    },
    {
      "cell_type": "code",
      "execution_count": null,
      "metadata": {
        "id": "SeOtAIdxZVBJ"
      },
      "outputs": [],
      "source": [
        "!chmod 600 ~/.kaggle/kaggle.json\n"
      ]
    },
    {
      "cell_type": "code",
      "execution_count": null,
      "metadata": {
        "colab": {
          "base_uri": "https://localhost:8080/"
        },
        "id": "Cbr70RujZXmP",
        "outputId": "f8316d4e-24a2-4fdb-ace9-bda35cee710e"
      },
      "outputs": [
        {
          "output_type": "stream",
          "name": "stdout",
          "text": [
            "alzheimers-dataset-4-class-of-images.zip: Skipping, found more recently modified local copy (use --force to force download)\n"
          ]
        }
      ],
      "source": [
        "!kaggle datasets download -d tourist55/alzheimers-dataset-4-class-of-images\n"
      ]
    },
    {
      "cell_type": "code",
      "execution_count": null,
      "metadata": {
        "colab": {
          "base_uri": "https://localhost:8080/"
        },
        "id": "Bd_l9oE6ZZww",
        "outputId": "3bace33d-29d4-4c0b-b241-15ff9081bfff"
      },
      "outputs": [
        {
          "output_type": "stream",
          "name": "stdout",
          "text": [
            "Archive:  /content/alzheimers-dataset-4-class-of-images.zip\n",
            "replace Alzheimer_s Dataset/test/MildDemented/26 (19).jpg? [y]es, [n]o, [A]ll, [N]one, [r]ename: "
          ]
        }
      ],
      "source": [
        "!unzip /content/alzheimers-dataset-4-class-of-images.zip"
      ]
    },
    {
      "cell_type": "code",
      "execution_count": null,
      "metadata": {
        "colab": {
          "base_uri": "https://localhost:8080/"
        },
        "id": "ki4fk0sNdY8H",
        "outputId": "d17fc5a4-d233-4e48-c0a4-bdf62d290145"
      },
      "outputs": [
        {
          "output_type": "stream",
          "name": "stdout",
          "text": [
            "Requirement already satisfied: tensorflow_addons in /usr/local/lib/python3.10/dist-packages (0.22.0)\n",
            "Requirement already satisfied: packaging in /usr/local/lib/python3.10/dist-packages (from tensorflow_addons) (23.2)\n",
            "Requirement already satisfied: typeguard<3.0.0,>=2.7 in /usr/local/lib/python3.10/dist-packages (from tensorflow_addons) (2.13.3)\n"
          ]
        }
      ],
      "source": [
        "!pip install tensorflow_addons"
      ]
    },
    {
      "cell_type": "code",
      "execution_count": null,
      "metadata": {
        "colab": {
          "base_uri": "https://localhost:8080/"
        },
        "id": "r7sQtwC_3jrd",
        "outputId": "7fd3ceb6-4673-4e03-ad71-937a4932af98"
      },
      "outputs": [
        {
          "output_type": "stream",
          "name": "stderr",
          "text": [
            "/usr/local/lib/python3.10/dist-packages/tensorflow_addons/utils/tfa_eol_msg.py:23: UserWarning: \n",
            "\n",
            "TensorFlow Addons (TFA) has ended development and introduction of new features.\n",
            "TFA has entered a minimal maintenance and release mode until a planned end of life in May 2024.\n",
            "Please modify downstream libraries to take dependencies from other repositories in our TensorFlow community (e.g. Keras, Keras-CV, and Keras-NLP). \n",
            "\n",
            "For more information see: https://github.com/tensorflow/addons/issues/2807 \n",
            "\n",
            "  warnings.warn(\n"
          ]
        },
        {
          "output_type": "stream",
          "name": "stdout",
          "text": [
            "TensorFlow Version: 2.14.0\n"
          ]
        }
      ],
      "source": [
        "import numpy as np\n",
        "import tensorflow as tf\n",
        "from PIL import Image\n",
        "from imblearn.over_sampling import SMOTE\n",
        "from sklearn.model_selection import train_test_split\n",
        "from sklearn.metrics import classification_report, confusion_matrix\n",
        "from tensorflow.keras.models import Sequential\n",
        "from tensorflow.keras.layers import Dense, Dropout, Conv2D, Flatten, GlobalAveragePooling2D"
      ]
    },
    {
      "cell_type": "markdown",
      "metadata": {
        "id": "HEpv28Du4EO6"
      },
      "source": [
        "**DATA AUGMENTATION**"
      ]
    },
    {
      "cell_type": "code",
      "execution_count": null,
      "metadata": {
        "colab": {
          "base_uri": "https://localhost:8080/"
        },
        "id": "A6J6UP9y31C2",
        "outputId": "8a2cf762-2fbd-49b5-918d-490eb72ed3b3"
      },
      "outputs": [
        {
          "output_type": "stream",
          "name": "stdout",
          "text": [
            "Working Directory Contents: ['ModerateDemented', 'VeryMildDemented', 'NonDemented', 'MildDemented']\n"
          ]
        }
      ],
      "source": [
        "#base_dir = \"/content/dataset\"\n",
        "base_dir = \"/content/Alzheimer_s Dataset/\"\n",
        "root_dir = \"./\"\n",
        "test_dir = base_dir + \"test/\"\n",
        "train_dir = base_dir + \"train/\"\n",
        "work_dir = root_dir + \"dataset/\"\n",
        "\n",
        "if os.path.exists(work_dir):\n",
        "    remove_tree(work_dir)\n",
        "\n",
        "\n",
        "os.mkdir(work_dir)\n",
        "copy_tree(train_dir, work_dir)\n",
        "copy_tree(test_dir, work_dir)\n",
        "print(\"Working Directory Contents:\", os.listdir(work_dir))"
      ]
    },
    {
      "cell_type": "code",
      "execution_count": null,
      "metadata": {
        "id": "w1H_HU4X6CfG"
      },
      "outputs": [],
      "source": [
        "CLASSES = [ 'NonDemented',\n",
        "            'VeryMildDemented',\n",
        "            'MildDemented',\n",
        "            'ModerateDemented']\n",
        "\n",
        "IMG_SIZE = 150\n",
        "IMAGE_SIZE = [150, 150]\n",
        "DIM = (IMG_SIZE, IMG_SIZE)"
      ]
    },
    {
      "cell_type": "code",
      "execution_count": null,
      "metadata": {
        "colab": {
          "base_uri": "https://localhost:8080/"
        },
        "id": "h0eCjuN3gYAu",
        "outputId": "282b3851-b55b-4620-ac90-c8f87c1ea11a"
      },
      "outputs": [
        {
          "output_type": "stream",
          "name": "stdout",
          "text": [
            "Found 6400 images belonging to 4 classes.\n"
          ]
        }
      ],
      "source": [
        "from tensorflow.keras.preprocessing.image import ImageDataGenerator\n",
        "ZOOM = [.99, 1.01]\n",
        "BRIGHT_RANGE = [0.8, 1.2]\n",
        "HORZ_FLIP = True\n",
        "FILL_MODE = \"constant\"\n",
        "DATA_FORMAT = \"channels_last\"\n",
        "# Define the ImageDataGenerator with augmentation parameters\n",
        "image_data_generator = ImageDataGenerator(\n",
        "rescale=1.0 / 255,\n",
        "brightness_range=BRIGHT_RANGE,\n",
        "zoom_range=ZOOM,\n",
        "data_format=DATA_FORMAT,\n",
        "fill_mode=FILL_MODE,\n",
        "horizontal_flip=HORZ_FLIP\n",
        ")\n",
        "# Create a generator for the training data from the working directory\n",
        "train_data_gen = image_data_generator.flow_from_directory(\n",
        "directory=work_dir,\n",
        "target_size=IMAGE_SIZE,\n",
        "batch_size=6500\n",
        "                                                           ,\n",
        "shuffle=False\n",
        ")\n"
      ]
    },
    {
      "cell_type": "code",
      "execution_count": null,
      "metadata": {
        "id": "rm8XJKkX6W4U"
      },
      "outputs": [],
      "source": [
        "#Retrieving the data from the ImageDataGenerator iterator\n",
        "\n",
        "train_data, train_labels = train_data_gen.next()"
      ]
    },
    {
      "cell_type": "code",
      "execution_count": null,
      "metadata": {
        "colab": {
          "base_uri": "https://localhost:8080/"
        },
        "id": "prtA63u86Y-e",
        "outputId": "2abe5f91-b932-410d-84b1-519a2db3645f"
      },
      "outputs": [
        {
          "output_type": "stream",
          "name": "stdout",
          "text": [
            "(6400, 150, 150, 3) (6400, 4)\n"
          ]
        }
      ],
      "source": [
        "#Getting to know the dimensions of our dataset\n",
        "\n",
        "print(train_data.shape, train_labels.shape)"
      ]
    },
    {
      "cell_type": "code",
      "execution_count": null,
      "metadata": {
        "colab": {
          "base_uri": "https://localhost:8080/"
        },
        "id": "KwB4nVBO4bNP",
        "outputId": "153cafdd-1190-4824-b05f-0ea25cdf5b2a"
      },
      "outputs": [
        {
          "output_type": "stream",
          "name": "stdout",
          "text": [
            "(12800, 150, 150, 3) (12800, 4)\n"
          ]
        }
      ],
      "source": [
        "#Performing over-sampling of the data, since the classes are imbalanced\n",
        "\n",
        "sm = SMOTE(random_state=42)\n",
        "\n",
        "train_data, train_labels = sm.fit_resample(train_data.reshape(-1, IMG_SIZE * IMG_SIZE * 3), train_labels)\n",
        "\n",
        "train_data = train_data.reshape(-1, IMG_SIZE, IMG_SIZE, 3)\n",
        "\n",
        "print(train_data.shape, train_labels.shape)\n"
      ]
    },
    {
      "cell_type": "markdown",
      "source": [
        "**Deep Net**"
      ],
      "metadata": {
        "id": "xaXJXUJxykV2"
      }
    },
    {
      "cell_type": "code",
      "source": [
        "import tensorflow as tf\n",
        "from tensorflow.keras.models import Model\n",
        "from tensorflow.keras.layers import Input, concatenate, Dense, GlobalAveragePooling2D\n",
        "from tensorflow.keras.applications import DenseNet121, VGG16\n",
        "\n",
        "def custom_densenet(input_tensor):\n",
        "    base_model = DenseNet121(include_top=False, weights='imagenet', input_tensor=input_tensor)\n",
        "    return base_model\n",
        "\n",
        "def custom_vgg16(input_tensor):\n",
        "    base_model = VGG16(include_top=False, weights='imagenet', input_tensor=input_tensor)\n",
        "    return base_model\n",
        "\n",
        "def deepnet():\n",
        "    input_layer = Input(shape=(150, 150, 3))\n",
        "\n",
        "    custom_densenet_model = custom_densenet(input_layer)\n",
        "    custom_vgg16_model = custom_vgg16(input_layer)\n",
        "\n",
        "    features_densenet = GlobalAveragePooling2D()(custom_densenet_model.output)\n",
        "    features_vgg16 = GlobalAveragePooling2D()(custom_vgg16_model.output)\n",
        "\n",
        "    features = concatenate([features_densenet, features_vgg16])\n",
        "\n",
        "    x = Dense(256, activation='relu')(features)\n",
        "    x = Dense(4, activation='softmax')(x)\n",
        "\n",
        "    model = Model(inputs=input_layer, outputs=x)\n",
        "\n",
        "    return model\n",
        "\n",
        "model = deepnet()\n",
        "model.summary()\n"
      ],
      "metadata": {
        "id": "HRtQVR6YmaR7"
      },
      "execution_count": null,
      "outputs": []
    },
    {
      "cell_type": "code",
      "execution_count": null,
      "metadata": {
        "id": "TE39vKQg8ceP"
      },
      "outputs": [],
      "source": [
        "METRICS = [\n",
        "      tf.keras.metrics.BinaryAccuracy(name='accuracy'),\n",
        "      tf.keras.metrics.Precision(name='precision'),\n",
        "      tf.keras.metrics.Recall(name='recall'),\n",
        "      tf.keras.metrics.AUC(name='auc')\n",
        "]"
      ]
    },
    {
      "cell_type": "code",
      "execution_count": null,
      "metadata": {
        "id": "tpMNr0HXLtcQ"
      },
      "outputs": [],
      "source": [
        "#Splitting the data into train, test, and validation sets\n",
        "train_data, test_data, train_labels, test_labels = train_test_split(train_data, train_labels, test_size = 0.2, random_state=42)"
      ]
    },
    {
      "cell_type": "code",
      "execution_count": null,
      "metadata": {
        "id": "46clQperf03w",
        "colab": {
          "base_uri": "https://localhost:8080/"
        },
        "outputId": "2a587edd-a300-40d1-f163-971feb3250c3"
      },
      "outputs": [
        {
          "output_type": "stream",
          "name": "stdout",
          "text": [
            "Epoch 1/20\n",
            "1280/1280 [==============================] - 275s 154ms/step - loss: 0.8133 - accuracy: 0.6357 - val_loss: 2.3239 - val_accuracy: 0.3715\n",
            "Epoch 2/20\n",
            "1280/1280 [==============================] - 189s 147ms/step - loss: 0.6421 - accuracy: 0.7015 - val_loss: 1.7905 - val_accuracy: 0.3289\n",
            "Epoch 3/20\n",
            "1280/1280 [==============================] - 197s 154ms/step - loss: 0.5431 - accuracy: 0.7539 - val_loss: 0.6458 - val_accuracy: 0.6926\n",
            "Epoch 4/20\n",
            "1280/1280 [==============================] - 190s 148ms/step - loss: 0.4730 - accuracy: 0.7879 - val_loss: 0.7367 - val_accuracy: 0.7277\n",
            "Epoch 5/20\n",
            "1280/1280 [==============================] - 189s 147ms/step - loss: 0.4130 - accuracy: 0.8229 - val_loss: 0.5267 - val_accuracy: 0.7883\n",
            "Epoch 6/20\n",
            "1280/1280 [==============================] - 188s 147ms/step - loss: 0.3370 - accuracy: 0.8569 - val_loss: 0.3473 - val_accuracy: 0.8605\n",
            "Epoch 7/20\n",
            "1280/1280 [==============================] - 189s 147ms/step - loss: 0.2734 - accuracy: 0.8911 - val_loss: 0.2757 - val_accuracy: 0.8840\n",
            "Epoch 8/20\n",
            "1280/1280 [==============================] - 188s 147ms/step - loss: 0.2199 - accuracy: 0.9160 - val_loss: 1.1577 - val_accuracy: 0.7449\n",
            "Epoch 9/20\n",
            "1280/1280 [==============================] - 188s 147ms/step - loss: 0.1744 - accuracy: 0.9335 - val_loss: 0.2346 - val_accuracy: 0.9215\n",
            "Epoch 10/20\n",
            "1280/1280 [==============================] - 188s 147ms/step - loss: 0.1575 - accuracy: 0.9416 - val_loss: 0.4034 - val_accuracy: 0.8570\n",
            "Epoch 11/20\n",
            "1280/1280 [==============================] - 188s 147ms/step - loss: 0.1209 - accuracy: 0.9566 - val_loss: 0.9848 - val_accuracy: 0.7117\n",
            "Epoch 12/20\n",
            "1280/1280 [==============================] - 188s 147ms/step - loss: 0.0971 - accuracy: 0.9661 - val_loss: 0.2559 - val_accuracy: 0.9035\n",
            "Epoch 13/20\n",
            "1280/1280 [==============================] - 195s 152ms/step - loss: 0.1000 - accuracy: 0.9646 - val_loss: 0.4307 - val_accuracy: 0.8402\n",
            "Epoch 14/20\n",
            "1280/1280 [==============================] - 188s 147ms/step - loss: 0.0790 - accuracy: 0.9714 - val_loss: 0.2062 - val_accuracy: 0.9285\n",
            "Epoch 15/20\n",
            "1280/1280 [==============================] - 195s 152ms/step - loss: 0.0779 - accuracy: 0.9741 - val_loss: 0.4305 - val_accuracy: 0.8762\n",
            "Epoch 16/20\n",
            "1280/1280 [==============================] - 188s 147ms/step - loss: 0.0716 - accuracy: 0.9751 - val_loss: 0.8726 - val_accuracy: 0.8141\n",
            "Epoch 17/20\n",
            "1280/1280 [==============================] - 195s 152ms/step - loss: 0.0683 - accuracy: 0.9764 - val_loss: 0.2095 - val_accuracy: 0.9340\n",
            "Epoch 18/20\n",
            "1280/1280 [==============================] - 188s 147ms/step - loss: 0.0581 - accuracy: 0.9797 - val_loss: 0.2377 - val_accuracy: 0.9234\n",
            "Epoch 19/20\n",
            "1280/1280 [==============================] - 195s 153ms/step - loss: 0.0533 - accuracy: 0.9825 - val_loss: 0.2607 - val_accuracy: 0.9207\n",
            "Epoch 20/20\n",
            "1280/1280 [==============================] - 188s 147ms/step - loss: 0.0656 - accuracy: 0.9765 - val_loss: 0.1606 - val_accuracy: 0.9383\n"
          ]
        }
      ],
      "source": [
        "model.compile(optimizer='adam', loss='categorical_crossentropy', metrics=['accuracy'])\n",
        "# Fit the model\n",
        "history = model.fit(train_data, train_labels, epochs=20, batch_size=8, validation_data=(test_data, test_labels))"
      ]
    },
    {
      "cell_type": "code",
      "execution_count": null,
      "metadata": {
        "id": "Vuqi6SpDCs_c"
      },
      "outputs": [],
      "source": [
        "#Evaluating the model on the data\n",
        "test_scores = model.evaluate(test_data, test_labels)\n",
        "tprint(\"Testing Accuracy: %.2f%%\"%(test_scores[1] * 100))"
      ]
    }
  ],
  "metadata": {
    "accelerator": "GPU",
    "colab": {
      "provenance": [],
      "gpuType": "T4"
    },
    "kernelspec": {
      "display_name": "Python 3",
      "name": "python3"
    },
    "language_info": {
      "name": "python"
    }
  },
  "nbformat": 4,
  "nbformat_minor": 0
}